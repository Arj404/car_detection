{
 "cells": [
  {
   "cell_type": "code",
   "execution_count": 2,
   "metadata": {},
   "outputs": [
    {
     "name": "stdout",
     "output_type": "stream",
     "text": [
      "20\n",
      "20\n",
      "20\n",
      "20\n"
     ]
    }
   ],
   "source": [
    "import cv2\n",
    "import datetime\n",
    "import time\n",
    "\n",
    "car_classifier = cv2.CascadeClassifier('./cars.xml')\n",
    "\n",
    "def detect_car():\n",
    "    ar = []\n",
    "    cap = cv2.VideoCapture(0)\n",
    "    dt=datetime.datetime.now()\n",
    "    t = (dt.second+10)%60\n",
    "    m = dt.minute + int((dt.second+10)/60)\n",
    "    #print(str(m) +\":\"+ str(t) )\n",
    "    while dt.second<t or dt.minute<m:\n",
    "        dt=datetime.datetime.now()\n",
    "        ret, frame = cap.read() \n",
    "        gray = cv2.cvtColor(frame, cv2.COLOR_BGR2GRAY)\n",
    "        cars = car_classifier.detectMultiScale(gray, 1.1,2)\n",
    "        for (x,y,w,h) in cars:\n",
    "            cv2.rectangle(frame, (x, y), (x+w, y+h), (0, 255, 255), 2)\n",
    "        frame = cv2.resize(frame, None, fx=0.75, fy=0.75)\n",
    "        n=len(cars)\n",
    "        ar.append(n)\n",
    "        cv2.putText(frame,str(n), (20, 20), cv2.FONT_HERSHEY_COMPLEX, .7, (255, 0, 0), 2)\n",
    "        cv2.imshow('Cars', frame)\n",
    "        if cv2.waitKey(1) == 13:\n",
    "            break\n",
    "    cap.release()\n",
    "    cv2.destroyAllWindows()\n",
    "    c=0\n",
    "    for i in ar:\n",
    "        if(i==0):\n",
    "            c=c+1\n",
    "    for i in range(c):\n",
    "        ar.remove(0)\n",
    "    s = sum(ar)\n",
    "    l = len(ar)\n",
    "    if(l!=0):\n",
    "        avg_car = int(s/l)\n",
    "    else:\n",
    "        avg_car = int(s)\n",
    "    return avg_car\n",
    "\n",
    "\n",
    "\n",
    "# time.sleep(1)\n",
    "signal = [30,30,30,30]\n",
    "for i in signal:\n",
    "    cars = detect_car()\n",
    "    if(cars<5):\n",
    "        t=i-10\n",
    "    elif(cars<10 and cars>5):\n",
    "        t = i-5\n",
    "    elif(cars<15 and cars>10):\n",
    "        t = i+5\n",
    "    elif(cars<20 and cars>15):\n",
    "        t = i+10\n",
    "    print(t)\n",
    "    time.sleep(t-10)"
   ]
  },
  {
   "cell_type": "code",
   "execution_count": null,
   "metadata": {},
   "outputs": [],
   "source": []
  },
  {
   "cell_type": "code",
   "execution_count": null,
   "metadata": {},
   "outputs": [],
   "source": []
  }
 ],
 "metadata": {
  "kernelspec": {
   "display_name": "Python 3",
   "language": "python",
   "name": "python3"
  },
  "language_info": {
   "codemirror_mode": {
    "name": "ipython",
    "version": 3
   },
   "file_extension": ".py",
   "mimetype": "text/x-python",
   "name": "python",
   "nbconvert_exporter": "python",
   "pygments_lexer": "ipython3",
   "version": "3.7.4"
  }
 },
 "nbformat": 4,
 "nbformat_minor": 2
}
